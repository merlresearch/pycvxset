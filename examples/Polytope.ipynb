{
 "cells": [
  {
   "cell_type": "markdown",
   "metadata": {},
   "source": [
    "# Polytope\n",
    "\n",
    "This python notebook goes over various functionalities of `pycvxset` for manipulating and plotting polytopes.\n",
    "\n",
    "**License information**: pycvxset code is released under `AGPL-3.0-or-later` license, as found in the <a href=\"https://raw.githubusercontent.com/merlresearch/pycvxset/main/LICENSE.md\" target=\"_blank\"> LICENSE.md</a> file. The documentation for pycvxset is released under `CC-BY-4.0` license, as found in the <a href=\"https://github.com/merlresearch/pycvxset/raw/main/LICENSES/CC-BY-4.0.md\" target=\"_blank\">LICENSES/CC-BY-4.0.md</a>.\n",
    "\n",
    "We define a polytope as a $n$-dimensional convex and compact set characterized in one of the following ways:\n",
    "1. **Halfspace representation (H-rep)**: The polytope $$\\mathcal{P}=\\{x\\in\\mathbb{R}^n|Ax \\preceq b\\}$$ is characterized by an appropriately defined tuple $(A,b)$ with $A\\in\\mathbb{R}^{N\\times n}, b\\in\\mathbb{R}^{N}$.\n",
    "2. **Vertex representation (V-rep)**: The polytope $$\\mathcal{P}=\\{x\\in\\mathbb{R}^n|\\exists \\theta\\in\\mathbb{R}^N, \\theta \\succeq 0, 1^\\top \\theta = 1, x = V^\\top\\theta\\}$$ is characterized by a collection of $N$ points $V\\in\\mathbb{R}^{N\\times n}$.\n",
    "3. **Axis-aligned cuboids**: The polytope $$\\mathcal{P}=\\{x\\in\\mathbb{R}^n| \\ell \\preceq x \\preceq u\\}$$ is characterized via lower and upper bounds $\\ell,u\\in\\mathbb{R}^n$ with $\\ell \\preceq u$. We obtain an **axis-aligned cuboid** when $\\ell = c - h$ and $u = c + h$ for some *center* $c\\in\\mathbb{R}^n$ and a vector *half-sides* $h\\in\\mathbb{R}^n$.\n",
    "4. **Empty polytope** of specified dimension is characterized by the dimension $n$.\n",
    "\n",
    "We organize this notebook on `pycvxset` operations on Polytopes as follows:\n",
    "1. [Representations and plotting](#repr)\n",
    "   1. [Halfspace representation (H-Rep)](#hrep)\n",
    "      1. [Plotting a H-Rep polytope](#plothrep)\n",
    "      2. [Explicit computation of vertex representation](#hreptovrep)\n",
    "   1. [Vertex representation (V-Rep)](#vrep)\n",
    "      1. [Plotting a V-Rep polytope](#plotvrep)\n",
    "      2. [Explicit computation of halfspace representation](#vreptohrep)\n",
    "         1. [Normalizing a halfspace representation](#normalize)\n",
    "   1. [Axis-aligned cuboids](#cuboid)\n",
    "   1. [Empty polytopes (and checking for emptiness)](#empty)\n",
    "   1. [Embedded polytopes](#embed)\n",
    "   1. [Removing redundancies in representation](#redund)\n",
    "      1. [Case 1: Minimizing halfspace representation](#redundcase1)\n",
    "      2. [Case 2: Minimizing vertex representation](#redundcase2)\n",
    "      3. [Case 3: Compute irredundant (vertex/halfspace) representation with enumeration](#redundcase3)\n",
    "   2. [Plotting with autoscale](#autoscale)\n",
    "2. [Operations involving a single polytope](#onepoly)\n",
    "   1. [Affine transformation](#affine)\n",
    "      1. [Negation and scaling by a scalar](#negation)\n",
    "   2. [Inverse affine transformation with an invertible linear map](#invaffine)\n",
    "   3. [Projection of a polytope](#projection)\n",
    "   4. [Project a point on to a polytope](#projectpoint)\n",
    "   5. [Containment: Check if a point is in a polytope](#containmentpoint)\n",
    "   6. [Support function computation](#support)\n",
    "   7. [Chebyshev centering](#cheby)\n",
    "   8. [Maximum volume inscribing ellipsoid](#mvie)\n",
    "   9. [Minimum volume circumscribing ellipsoid](#mvce)\n",
    "   10. [Minimum volume circumscribing rectangle](#mvcr)\n",
    "   11. [Interior point computation](#interior)\n",
    "   12. [Volume computation](#volume)\n",
    "   13. [Cartesian product with itself](#cartesian)\n",
    "3. [Operations involving two polytopes or a polytope and another set](#twopoly)\n",
    "   1. [Minkowski sum with another polytope](#minkowski)\n",
    "   2. [Pontryagin difference with another polytope, an ellipsoid, or a constrained zonotope](#pontryagin)\n",
    "   3. [Intersection with another polytope, a halfspace, or an affine set](#intersection)\n",
    "      1. [Intersection under inverse affine map](#intersectioninverse)\n",
    "      1. [Intersection with a halfspace](#halfspace)\n",
    "      1. [Intersection with an affine set](#affineset)\n",
    "      1. [Slicing](#slice)\n",
    "   4. [Containment: Check if a polytope is in another polytope](#containment)\n",
    "\n",
    "> While polytopes are bounded by construction, the class does not explicitly check for boundedness for H-Rep polytopes to avoid a vertex enumeration."
   ]
  },
  {
   "cell_type": "markdown",
   "metadata": {},
   "source": [
    "<a name=\"repr\"></a>\n",
    "\n",
    "## Representations and plotting\n"
   ]
  },
  {
   "cell_type": "markdown",
   "metadata": {},
   "source": [
    "In preparation to run the notebook, we import the necessary packages."
   ]
  },
  {
   "cell_type": "code",
   "execution_count": null,
   "metadata": {},
   "outputs": [],
   "source": [
    "from pycvxset import Polytope, Ellipsoid, spread_points_on_a_unit_sphere\n",
    "import numpy as np\n",
    "import matplotlib.pyplot as plt"
   ]
  },
  {
   "cell_type": "markdown",
   "metadata": {},
   "source": [
    "We also set up matplotlib to have a standard figure size, and call matplotlib widget to enable 3D plotting in the notebook."
   ]
  },
  {
   "cell_type": "code",
   "execution_count": null,
   "metadata": {},
   "outputs": [],
   "source": [
    "plt.rcParams[\"figure.figsize\"] = [5, 3]\n",
    "plt.rcParams[\"figure.dpi\"] = 100\n",
    "%matplotlib widget"
   ]
  },
  {
   "cell_type": "markdown",
   "metadata": {},
   "source": [
    "<a name=\"hrep\"></a>\n",
    "\n",
    "### Halfspace representation\n",
    "\n",
    "We create a $\\mathbb{R}^3$-dimensional polytope `P_hrep` in H-representation by specifying $(A,b)$ characterizing `P_hrep`. We confirm that the polytope is three-dimensional and in the expected representation (it has a H-Rep, but no V-Rep)."
   ]
  },
  {
   "cell_type": "code",
   "execution_count": null,
   "metadata": {},
   "outputs": [],
   "source": [
    "A = np.array(\n",
    "    [[1, 0, 0], [0, 1, 0], [0, 0, 1], [-1, 0, 0], [0, -1, 0], [0, 0, -1]]\n",
    ")\n",
    "b = [2, 3, 1, 2, 3, 1]\n",
    "P_hrep_3D = Polytope(A=A, b=b)\n",
    "print(repr(P_hrep_3D))\n",
    "print(\"Is P_hrep_3D in V-Rep?\", P_hrep_3D.in_V_rep)\n",
    "print(\"Is P_hrep_3D in H-Rep?\", P_hrep_3D.in_H_rep)\n",
    "print(f\"The dimension of P_hrep_3D is {P_hrep_3D.dim:d}.\")"
   ]
  },
  {
   "cell_type": "markdown",
   "metadata": {},
   "source": [
    "<a name=\"plothrep\"></a>\n",
    "\n",
    "#### Plotting a H-Rep polytope\n",
    "\n",
    "Next, we plot the polytope. Note that `pycvxset` internally performs a vertex enumeration in order to plot the polytope `P_hrep`. Consequently, now the polytope `P_hrep` has a V-Rep and a H-Rep."
   ]
  },
  {
   "cell_type": "code",
   "execution_count": null,
   "metadata": {},
   "outputs": [],
   "source": [
    "ax, _, _ = P_hrep_3D.plot(patch_args={\"label\": \"P_hrep_3D\"})\n",
    "ax.legend()\n",
    "ax.set_title(\"Plotting P_hrep_3D\")\n",
    "ax.set_xlabel(\"x\")\n",
    "ax.set_ylabel(\"y\")\n",
    "ax.set_zlabel(\"z\")\n",
    "print(\"Is P_hrep_3D in V-Rep?\", P_hrep_3D.in_V_rep)\n",
    "print(\"Is P_hrep_3D in H-Rep?\", P_hrep_3D.in_H_rep)"
   ]
  },
  {
   "cell_type": "markdown",
   "metadata": {},
   "source": [
    "<a name=\"hreptovrep\"></a>\n",
    "\n",
    "#### Explicit computation of vertex representation from a H-Rep\n",
    "\n",
    "We can compute the vertices of a polytope in H-Rep using `cdd`. While the conversion can be triggered by a call\n",
    "`P_hrep.determine_V_rep()`, it can be implicitly achieved by getting `V`. The polytope does not have vertices identified\n",
    "before such a call (`P_hrep.in_V_rep` is false). However, after the call `P_hrep.V`, `P_hrep.in_V_rep` becomes `True`,\n",
    "as expected."
   ]
  },
  {
   "cell_type": "code",
   "execution_count": null,
   "metadata": {},
   "outputs": [],
   "source": [
    "A_hrep = [[-1, 0], [0, -1], [1, 1]]\n",
    "b_hrep = (0, 0, 2)  # b as a tuple is also ok\n",
    "P_hrep = Polytope(A=A_hrep, b=b_hrep)\n",
    "print(repr(P_hrep))\n",
    "print(\"Is P_hrep in V-Rep?\", P_hrep.in_V_rep)\n",
    "# Vertex-halfspace enumeration\n",
    "vertices_of_P_hrep = P_hrep.V\n",
    "print(\"What are the vertices of P_hrep?\\n\", vertices_of_P_hrep)\n",
    "print(\"Is P_hrep in V-Rep?\", P_hrep.in_V_rep)\n",
    "# Visual confirmation\n",
    "ax, _, _ = P_hrep.plot(\n",
    "    patch_args={\"label\": \"P_hrep\"},\n",
    "    vertex_args={\"visible\": True, \"label\": \"Vertices\"},\n",
    ")\n",
    "ax.legend()\n",
    "ax.set_title(\"Polytope P_hrep with its vertices\");"
   ]
  },
  {
   "cell_type": "markdown",
   "metadata": {},
   "source": [
    "<a name=\"vrep\"></a>\n",
    "\n",
    "### Vertex representation\n",
    "\n",
    "We now define the same polytope as above in V-Rep, and confirm that it is the same as `P_hrep` defined above."
   ]
  },
  {
   "cell_type": "code",
   "execution_count": null,
   "metadata": {},
   "outputs": [],
   "source": [
    "theta_vec = np.arange(0, stop=2 * np.pi, step=2 * np.pi / 5)\n",
    "P_vrep = Polytope(\n",
    "    V=[[np.cos(theta), np.sin(theta)] for theta in theta_vec]\n",
    ")\n",
    "print(repr(P_vrep))\n",
    "print(\"Is P_vrep in V-Rep?\", P_vrep.in_V_rep)\n",
    "print(\"Is P_vrep in H-Rep?\", P_vrep.in_H_rep)"
   ]
  },
  {
   "cell_type": "markdown",
   "metadata": {},
   "source": [
    "<a name=\"plotvrep\"></a>\n",
    "\n",
    "#### Plotting a V-Rep polytope\n",
    "\n",
    "We also perform a visual confirmation of the polytopes."
   ]
  },
  {
   "cell_type": "code",
   "execution_count": null,
   "metadata": {},
   "outputs": [],
   "source": [
    "ax, _, _ = P_vrep.plot(\n",
    "    patch_args={\"label\": \"P_vrep\"},\n",
    "    vertex_args={\"visible\": True, \"label\": \"P_vrep.V\"},\n",
    ")\n",
    "ax.legend()\n",
    "ax.set_title(\"Polytope P_vrep with its vertices\");"
   ]
  },
  {
   "cell_type": "markdown",
   "metadata": {},
   "source": [
    "<a name=\"vreptohrep\"></a>\n",
    "\n",
    "#### Explicit computation of halfspace representation from a V-Rep\n",
    "\n",
    "We can obtain the halfspace representation of `P_vrep` using `pycvxset`. For ease of visualization, we normalize the H-Rep of `P_vrep`. While the conversion can be triggered by a call `P_vrep.determine_H_rep()`, it can be implicitly achieved by getting `(A,b)`. After the call, we see that `P_vrep` has both H-Rep and V-Rep."
   ]
  },
  {
   "cell_type": "code",
   "execution_count": null,
   "metadata": {},
   "outputs": [],
   "source": [
    "print(\n",
    "    \"What is the halfspace representation of P_vrep?\\nA:\\n\",\n",
    "    P_vrep.A,\n",
    "    \"\\nb:\\n\",\n",
    "    P_vrep.b,\n",
    ")\n",
    "print(\"Is P_vrep in V-Rep?\", P_vrep.in_V_rep)\n",
    "print(\"Is P_vrep in H-Rep?\", P_vrep.in_H_rep)"
   ]
  },
  {
   "cell_type": "markdown",
   "metadata": {},
   "source": [
    "<a name=\"normalize\"></a>\n",
    "\n",
    "##### Normalize the H-Rep representation\n",
    "\n",
    "We can also have the H-Rep normalized so that each row of A has unit $\\ell_2$-norm."
   ]
  },
  {
   "cell_type": "code",
   "execution_count": null,
   "metadata": {},
   "outputs": [],
   "source": [
    "P_vrep.normalize()\n",
    "print(\n",
    "    \"What is the (normalized) halfspace representation of P_vrep?\\nA:\\n\",\n",
    "    P_vrep.A,\n",
    "    \"\\nb:\\n\",\n",
    "    P_vrep.b,\n",
    ")"
   ]
  },
  {
   "cell_type": "markdown",
   "metadata": {},
   "source": [
    "<a name=\"cuboid\"></a>\n",
    "\n",
    "### Axis-aligned cuboids\n",
    "\n",
    "Next, we define an axis-aligned cuboid using the bounds. Internally, `pycvxset` stores the polytope in H-representation.\n",
    "One can also define an axis-aligned cuboid based on their center and half-sides."
   ]
  },
  {
   "cell_type": "code",
   "execution_count": null,
   "metadata": {},
   "outputs": [],
   "source": [
    "axis_aligned_cuboid_from_bounds = Polytope(lb=[-1, 2], ub=[5, 4])\n",
    "print(repr(axis_aligned_cuboid_from_bounds))\n",
    "print(\n",
    "    \"What are the vertices of the polytope?\\n\",\n",
    "    axis_aligned_cuboid_from_bounds.V,\n",
    ")\n",
    "# Plot axis_aligned_cuboid_from_bounds\n",
    "ax, _, _ = axis_aligned_cuboid_from_bounds.plot(\n",
    "    patch_args={\"label\": \"Rectangle\"}, vertex_args={\"visible\": True}\n",
    ")\n",
    "\n",
    "axis_aligned_cuboid_from_center_and_sides = Polytope(c=[0, 0], h=1)\n",
    "print(repr(axis_aligned_cuboid_from_center_and_sides))\n",
    "print(\n",
    "    \"What are the vertices of the polytope?\\n\",\n",
    "    axis_aligned_cuboid_from_center_and_sides.V,\n",
    ")\n",
    "# Plot axis_aligned_cuboid_from_center_and_sides\n",
    "axis_aligned_cuboid_from_center_and_sides.plot(\n",
    "    ax=ax,\n",
    "    patch_args={\"label\": \"Cube\", \"facecolor\": \"m\"},\n",
    "    vertex_args={\"visible\": True},\n",
    ")\n",
    "ax.set_aspect(\"equal\")\n",
    "ax.legend(loc=\"best\")\n",
    "ax.set_title(\"Axis-aligned cuboids\");"
   ]
  },
  {
   "cell_type": "markdown",
   "metadata": {},
   "source": [
    "<a name=\"empty\"></a>\n",
    "\n",
    "### Empty polytope (and checking for emptiness)\n",
    "\n",
    "We can also define an empty polytope of desired dimension as well. `pycvxset` can also check if a polytope is empty or \n",
    "nonempty."
   ]
  },
  {
   "cell_type": "code",
   "execution_count": null,
   "metadata": {},
   "outputs": [],
   "source": [
    "empty_polytope = Polytope(dim=3)\n",
    "print(empty_polytope)\n",
    "print(\"Is empty_polytope in V-Rep?\", empty_polytope.in_V_rep)\n",
    "print(\"Is empty_polytope in H-Rep?\", empty_polytope.in_H_rep)\n",
    "print(\"Is empty_polytope empty?\", empty_polytope.is_empty)"
   ]
  },
  {
   "cell_type": "markdown",
   "metadata": {},
   "source": [
    "We also confirm if previously defined polytopes were not empty."
   ]
  },
  {
   "cell_type": "code",
   "execution_count": null,
   "metadata": {},
   "outputs": [],
   "source": [
    "print(\"Was P_hrep empty?\", P_hrep.is_empty)\n",
    "print(\"Was P_vrep empty?\", P_vrep.is_empty)"
   ]
  },
  {
   "cell_type": "markdown",
   "metadata": {},
   "source": [
    "<a name=\"embed\"></a>\n",
    "\n",
    "### Embedded polytopes\n",
    "\n",
    "We can also embed a lower-dimensional polytope in a higher-dimensional space. \n",
    "1. In V-Rep polytopes, embedded polytopes are characterized by vertices that lie on one or more hyperplanes.\n",
    "2. In H-Rep polytopes, embedded polytopes are characterized by equality constraints.\n",
    "\n",
    "Recall that the lower-dimensionality of the polytope is captured by its affine dimension, which `pycvxset` computes automatically."
   ]
  },
  {
   "cell_type": "code",
   "execution_count": null,
   "metadata": {},
   "outputs": [],
   "source": [
    "low_dim_P_in_high_dim_space = Polytope(V=[[0.5, 1], [1, 2]])\n",
    "print(low_dim_P_in_high_dim_space)\n",
    "print(\n",
    "    \"What is low_dim_P_in_high_dim_space's dimension?\",\n",
    "    low_dim_P_in_high_dim_space.dim,\n",
    ")\n",
    "print(\n",
    "    \"Is low_dim_P_in_high_dim_space full-dimensional?\",\n",
    "    low_dim_P_in_high_dim_space.is_full_dimensional,\n",
    ")\n",
    "print(\"Is P_hrep full-dimensional?\", P_hrep.is_full_dimensional)\n",
    "\n",
    "print(\n",
    "    \"What is the halfspace representation of P_vrep?\\nA:\\n\",\n",
    "    low_dim_P_in_high_dim_space.A,\n",
    "    \"\\nb:\\n\",\n",
    "    low_dim_P_in_high_dim_space.b,\n",
    ")\n",
    "ax, _, _ = low_dim_P_in_high_dim_space.plot()\n",
    "ax.set_xlabel(\"x\")\n",
    "ax.set_ylabel(\"y\")\n",
    "ax.set_title(r\"An interval in $\\mathbb{R}^2$\")\n",
    "\n",
    "# Slicing a 3D polytope\n",
    "print(\"Is P_hrep_3D full-dimensional?\", P_hrep_3D.is_full_dimensional)\n",
    "equality_constrained_P_hrep_3D = Polytope(\n",
    "    A=P_hrep_3D.A, b=P_hrep_3D.b, Ae=[0.03, 0, 0.2], be=[0]\n",
    ")\n",
    "print(\n",
    "    \"What is equality_constrained_P_hrep_3D's dimension?\",\n",
    "    equality_constrained_P_hrep_3D.dim,\n",
    ")\n",
    "print(\n",
    "    \"Is equality_constrained_P_hrep_3D full-dimensional?\",\n",
    "    equality_constrained_P_hrep_3D.is_full_dimensional,\n",
    ")\n",
    "ax, _, _ = P_hrep_3D.plot(\n",
    "    patch_args={\n",
    "        \"alpha\": 0.4,\n",
    "        \"facecolor\": \"lightblue\",\n",
    "        \"label\": \"Original\",\n",
    "    }\n",
    ")\n",
    "equality_constrained_P_hrep_3D.plot(\n",
    "    ax=ax,\n",
    "    patch_args={\n",
    "        \"facecolor\": \"lightgreen\",\n",
    "        \"label\": \"Equality constrained\",\n",
    "    },\n",
    ")\n",
    "ax.set_xlabel(\"x\")\n",
    "ax.set_ylabel(\"y\")\n",
    "ax.set_zlabel(\"z\")\n",
    "ax.legend(loc=\"best\", bbox_to_anchor=(1.5, 1))\n",
    "ax.set_title(\"Polytope with equality constraints\");"
   ]
  },
  {
   "cell_type": "markdown",
   "metadata": {},
   "source": [
    "<a name=\"redund\"></a>\n",
    "\n",
    "### Removing redundancies in representation\n",
    "\n",
    "Given a polytope, we can compute irredundant representations (in H-Rep and V-Rep) using linear programming and `scipy.spatial.ConvexHull`. Also, `minimize_V_rep` and `minimize_H_rep` internally can call the vertex-halfspace enumerators, when required.\n",
    "\n",
    "<a name=\"redundcase1\"></a>\n",
    "\n",
    "#### Case 1: Minimizing halfspace representation"
   ]
  },
  {
   "cell_type": "code",
   "execution_count": null,
   "metadata": {},
   "outputs": [],
   "source": [
    "redundant_hrep_A = np.vstack((A_hrep, A_hrep[2]))\n",
    "redundant_hrep_b = np.hstack((b_hrep, b_hrep[2]))\n",
    "P_in_redundant_hrep = Polytope(A=redundant_hrep_A, b=redundant_hrep_b)\n",
    "print(\"The (redundant) halfspace representation of P_in_redundant_hrep:\")\n",
    "print(\"A:\\n\", P_in_redundant_hrep.A, \"\\nb:\\n\", P_in_redundant_hrep.b)\n",
    "P_in_redundant_hrep.minimize_H_rep()\n",
    "print(\"The (irredundant) halfspace representation of P_in_redundant_hrep:\")\n",
    "print(\"A:\\n\", P_in_redundant_hrep.A, \"\\nb:\\n\", P_in_redundant_hrep.b)"
   ]
  },
  {
   "cell_type": "markdown",
   "metadata": {},
   "source": [
    "<a name=\"redundcase2\"></a>\n",
    "\n",
    "#### Case 2: Minimizing vertex representation\n"
   ]
  },
  {
   "cell_type": "code",
   "execution_count": null,
   "metadata": {},
   "outputs": [],
   "source": [
    "redundant_vrep = np.vstack((vertices_of_P_hrep, vertices_of_P_hrep[-2]))\n",
    "P_in_redundant_vrep = Polytope(V=redundant_vrep)\n",
    "print(\"The (redundant) vertex representation of P_in_redundant_vrep:\")\n",
    "print(\"V:\\n\", P_in_redundant_vrep.V)\n",
    "P_in_redundant_vrep.minimize_V_rep()\n",
    "print(\"The (irredundant) vertex representation of P_in_redundant_vrep:\")\n",
    "print(\"V:\\n\", P_in_redundant_vrep.V)"
   ]
  },
  {
   "cell_type": "markdown",
   "metadata": {},
   "source": [
    "<a name=\"redundcase3\"></a>\n",
    "\n",
    "#### Case 3: Compute irredundant (vertex/halfspace) representation with enumeration"
   ]
  },
  {
   "cell_type": "code",
   "execution_count": null,
   "metadata": {},
   "outputs": [],
   "source": [
    "redundant_hrep_A = np.vstack((A_hrep, A_hrep[2]))\n",
    "redundant_hrep_b = np.hstack((b_hrep, b_hrep[2]))\n",
    "P_in_redundant_hrep = Polytope(A=redundant_hrep_A, b=redundant_hrep_b)\n",
    "print(\"The (redundant) halfspace representation of P_in_redundant_hrep:\")\n",
    "print(\"A:\\n\", P_in_redundant_hrep.A, \"\\nb:\\n\", P_in_redundant_hrep.b)\n",
    "print(\n",
    "    \"How many hyperplanes define P_in_redundant_hrep?\",\n",
    "    P_in_redundant_hrep.H.shape[0],\n",
    ")\n",
    "print(\"Is P_in_redundant_hrep in V-Rep?\", P_in_redundant_hrep.in_V_rep)\n",
    "P_in_redundant_hrep.minimize_V_rep()\n",
    "print(\"Is P_in_redundant_hrep in H-Rep?\", P_in_redundant_hrep.in_H_rep)\n",
    "print(\n",
    "    \"After calling minimize_V_rep, how many hyperplanes define P_in_redundant_hrep?\",\n",
    "    P_in_redundant_hrep.H.shape[0],\n",
    ")\n",
    "P_in_redundant_hrep.minimize_H_rep()\n",
    "print(\n",
    "    \"After calling minimize_H_rep, how many hyperplanes define P_in_redundant_hrep?\",\n",
    "    P_in_redundant_hrep.H.shape[0],\n",
    ")\n",
    "print(\"The (irredundant) halfspace representation of P_in_redundant_hrep:\")\n",
    "print(\"A:\\n\", P_in_redundant_hrep.A, \"\\nb:\\n\", P_in_redundant_hrep.b)"
   ]
  },
  {
   "cell_type": "markdown",
   "metadata": {},
   "source": [
    "<a name=\"autoscale\"></a>\n",
    "\n",
    "### Plotting with autoscale\n",
    "\n",
    "We also see the benefit of autoscale_enable being set to `True` (default)."
   ]
  },
  {
   "cell_type": "code",
   "execution_count": null,
   "metadata": {},
   "outputs": [],
   "source": [
    "P_hrep = Polytope(A=A_hrep, b=b_hrep)\n",
    "fig, ax = plt.subplots(1, 2)\n",
    "ax[0].set_xlim([-5, 5])\n",
    "P_hrep.plot(ax=ax[0])\n",
    "ax[0].set_title(\"autoscale_enable=True\")\n",
    "ax[1].set_xlim([-5, 5])\n",
    "P_hrep.plot(ax=ax[1], autoscale_enable=False)\n",
    "ax[1].set_title(\"autoscale_enable=False\")\n",
    "plt.tight_layout()\n",
    "plt.subplots_adjust(top=0.8)\n",
    "plt.suptitle(\"Plotting P_hrep with autoscale_enable\");"
   ]
  },
  {
   "cell_type": "markdown",
   "metadata": {},
   "source": [
    "<a name=\"onepoly\"></a>\n",
    "\n",
    "## Operations involving a single polytope\n",
    "\n",
    "We provide examples for the following operations supported by `pycvxset` on the `Polytope` objects.\n",
    "\n",
    "1. Affine transformation\n",
    "2. Inverse affine transformation with an invertible linear map\n",
    "3. Projection of a polytope\n",
    "4. Project a point on to a polytope\n",
    "5. Support function computation\n",
    "6. Chebyshev centering\n",
    "7. Maximum volume inscribing ellipsoid\n",
    "8. Minimum volume circumscribing ellipsoid\n",
    "9. Minimum volume circumscribing rectangle\n",
    "10. Containment: Check if a point is in a polytope\n",
    "11. Volume computation\n",
    "12. Interior point computation\n",
    "\n",
    "For polytope transformations, we will use `OLD_POLYTOPE_COLOR_1` to denote the old polytope and `NEW_POLYTOPE_COLOR` to denote the new polytope."
   ]
  },
  {
   "cell_type": "code",
   "execution_count": null,
   "metadata": {},
   "outputs": [],
   "source": [
    "OLD_POLYTOPE_COLOR_1 = \"skyblue\"\n",
    "NEW_POLYTOPE_COLOR = \"lightgray\""
   ]
  },
  {
   "cell_type": "markdown",
   "metadata": {},
   "source": [
    "<a name=\"affine\"></a>\n",
    "\n",
    "### Affine transformation\n",
    "\n",
    "Affine transformations of polytopes can rotate, shear, and translate polytopes.\n",
    "\n",
    "Recall that rotation matrix $R(\\theta)=\\left[\\begin{array}{cc}\\cos(\\theta)&-\\sin(\\theta)\\\\\\sin(\\theta)&\\cos(\\theta)\\end{array}\\right]$ rotates a 2D vector by $\\theta\\in(-\\pi,\\pi]$. Thus, given a 2D polytope $\\mathcal{P}$, we are interested in computing the polytope $$\\mathcal{Q}=R(\\theta)\\mathcal{P} + \\left[\\begin{array}{c} 2\\\\-2\\end{array}\\right].$$\n",
    "\n",
    "Note that the `Polytope` class overloads the operator `@` and `+` to accomplish these transformations. Alternatively, you can use `affine_map` and `plus` methods."
   ]
  },
  {
   "cell_type": "code",
   "execution_count": null,
   "metadata": {},
   "outputs": [],
   "source": [
    "OLD_POLYTOPE_1 = Polytope(V=[[0, 0], [0, 1], [2, 0]])\n",
    "rotation_degree = 45\n",
    "rotation_radians = np.deg2rad(rotation_degree)\n",
    "rotation_matrix = np.array(\n",
    "    [\n",
    "        [np.cos(rotation_radians), -np.sin(rotation_radians)],\n",
    "        [np.sin(rotation_radians), np.cos(rotation_radians)],\n",
    "    ]\n",
    ")\n",
    "translation = np.array([[2, -2]]).T\n",
    "# Computation via operator overloading\n",
    "new_polytope_from_affine_transformation = (\n",
    "    rotation_matrix @ OLD_POLYTOPE_1 + translation\n",
    ")\n",
    "\n",
    "patch_args_old = {\n",
    "    \"facecolor\": OLD_POLYTOPE_COLOR_1,\n",
    "    \"label\": \"Original polytope\",\n",
    "}\n",
    "patch_args_new = {\n",
    "    \"facecolor\": NEW_POLYTOPE_COLOR,\n",
    "    \"label\": \"Affine transformed polytope\",\n",
    "}\n",
    "ax, _, _ = OLD_POLYTOPE_1.plot(patch_args=patch_args_old)\n",
    "new_polytope_from_affine_transformation.plot(\n",
    "    ax=ax, patch_args=patch_args_new\n",
    ")\n",
    "ax.legend()\n",
    "ax.set_title(\"Affine transformation\")\n",
    "\n",
    "# Explicit computation via methods\n",
    "new_polytope_from_affine_transformation_explicit = (\n",
    "    OLD_POLYTOPE_1.affine_map(rotation_matrix).plus(translation)\n",
    ")\n",
    "print(\n",
    "    \"Are polytopes obtained from these methods the same?\",\n",
    "    new_polytope_from_affine_transformation\n",
    "    == new_polytope_from_affine_transformation_explicit,\n",
    ")"
   ]
  },
  {
   "cell_type": "code",
   "execution_count": null,
   "metadata": {},
   "outputs": [],
   "source": [
    "patch_args_old = {\n",
    "    \"facecolor\": OLD_POLYTOPE_COLOR_1,\n",
    "    \"label\": \"Original polytope\",\n",
    "}\n",
    "patch_args_new = {\n",
    "    \"facecolor\": NEW_POLYTOPE_COLOR,\n",
    "    \"label\": \"Affine transformed polytope\",\n",
    "}\n",
    "P = Polytope(V=spread_points_on_a_unit_sphere(2, 7)[0])\n",
    "new_P = [[2, 0], [0, 0.5]] @ P\n",
    "ax, _, _ = P.plot(patch_args=patch_args_old)\n",
    "new_P.plot(ax=ax, patch_args=dict(patch_args_new, **{\"alpha\": 0.5}))\n",
    "ax.legend(loc=\"lower right\", bbox_to_anchor=(1, 0))\n",
    "ax.grid()\n",
    "ax.set_xlabel(\"x\")\n",
    "ax.set_ylabel(\"y\")\n",
    "ax.set_title(\"Grow in x, but shrink in y\");"
   ]
  },
  {
   "cell_type": "markdown",
   "metadata": {},
   "source": [
    "<a name=\"negation\"></a>\n",
    "\n",
    "#### Negation and scaling by a scalar"
   ]
  },
  {
   "cell_type": "code",
   "execution_count": null,
   "metadata": {},
   "outputs": [],
   "source": [
    "negated_P = -P\n",
    "scaled_P = 0.2 * P\n",
    "ax = P.plot(\n",
    "    patch_args={\n",
    "        \"alpha\": 0.4,\n",
    "        \"facecolor\": OLD_POLYTOPE_COLOR_1,\n",
    "        \"label\": \"Original\",\n",
    "    }\n",
    ")[0]\n",
    "negated_P.plot(\n",
    "    ax=ax,\n",
    "    patch_args={\n",
    "        \"alpha\": 0.4,\n",
    "        \"facecolor\": NEW_POLYTOPE_COLOR,\n",
    "        \"label\": \"-P\",\n",
    "    },\n",
    ")\n",
    "scaled_P.plot(\n",
    "    ax=ax,\n",
    "    patch_args={\"alpha\": 0.4, \"facecolor\": \"lightgreen\", \"label\": \"0.2P\"},\n",
    ")\n",
    "ax.legend()"
   ]
  },
  {
   "cell_type": "markdown",
   "metadata": {},
   "source": [
    "<a name=\"invaffine\"></a>\n",
    "\n",
    "### Inverse affine transformation\n",
    "\n",
    "We can also undo an affine transformation when it is invertible.\n",
    "\n",
    "Note that the `Polytope` class overloads the operator `@` and `-` to accomplish these transformations. Alternatively, you can use `inverse_affine_map` and `minus` methods.\n",
    "\n",
    "We use `==` to check if polytopes are equal. For more details, see containment."
   ]
  },
  {
   "cell_type": "code",
   "execution_count": null,
   "metadata": {},
   "outputs": [],
   "source": [
    "old_polytope_from_new_polytope = (\n",
    "    new_polytope_from_affine_transformation - translation\n",
    ") @ rotation_matrix\n",
    "old_polytope_from_new_polytope_explicit = (\n",
    "    new_polytope_from_affine_transformation.minus(\n",
    "        translation\n",
    "    ).inverse_affine_map_under_invertible_matrix(rotation_matrix)\n",
    ")\n",
    "print(\n",
    "    \"Are polytopes obtained from these methods the same?\",\n",
    "    old_polytope_from_new_polytope_explicit\n",
    "    == old_polytope_from_new_polytope,\n",
    ")\n",
    "print(\n",
    "    \"Did we get the old polytope back?\",\n",
    "    old_polytope_from_new_polytope_explicit == OLD_POLYTOPE_1,\n",
    ")\n",
    "\n",
    "patch_args_new = {\n",
    "    \"facecolor\": OLD_POLYTOPE_COLOR_1,\n",
    "    \"label\": \"Affine transformed polytope\",\n",
    "}\n",
    "patch_args_new_undo = {\n",
    "    \"facecolor\": NEW_POLYTOPE_COLOR,\n",
    "    \"label\": \"Undo the affine transformation\",\n",
    "}\n",
    "ax, _, _ = new_polytope_from_affine_transformation.plot(\n",
    "    patch_args=patch_args_new\n",
    ")\n",
    "old_polytope_from_new_polytope_explicit.plot(\n",
    "    ax=ax, patch_args=patch_args_new_undo\n",
    ")\n",
    "ax.legend()\n",
    "ax.set_title(\"Inverse affine transformation\");"
   ]
  },
  {
   "cell_type": "markdown",
   "metadata": {},
   "source": [
    "<a name=\"projection\"></a>\n",
    "\n",
    "### Projection of a polytope\n",
    "\n",
    "Given a polytope $\\mathcal{P}\\subset\\mathbb{R}^n$, the (orthogonal) projection of a polytopes is defined as $$\\mathcal{R} = \\{r \\in \\mathbb{R}^{m}: \\exists v \\in \\mathbb{R}^{n - m},\\ \\mathrm{Lift}(r,v)\\in \\mathcal{P}\\}$$\n",
    "Here, $m = \\mathcal{P}.dim - \\text{length}(\\text{project\\_away\\_dimensions})$, and $\\mathrm{Lift}(r,v)$ lifts (undoes the projection) by combining $r$ and $v$ to produce a $n$-dimensional vector.\n",
    "\n",
    "You can rotate the 3D plots using your mouse.\n",
    "\n",
    "**WARNING**: You will see issues with matplotlib's rendering when you rotate the figure (see the second plot). See https://matplotlib.org/stable/api/toolkits/mplot3d/faq.html#my-3d-plot-doesn-t-look-right-at-certain-viewing-angles for more details. When a visual comparison of the plots is desired, it may be better to just plot the frame by setting `patch_args['facecolor]=None`. This issue does not appear for 2D plotting."
   ]
  },
  {
   "cell_type": "code",
   "execution_count": null,
   "metadata": {},
   "outputs": [],
   "source": [
    "L1_norm_ball = Polytope(V=np.vstack((np.eye(3), -np.eye(3))))\n",
    "simplex_in_R_pos = Polytope(V=np.vstack((np.eye(3), [0, 0, 0])))\n",
    "polytope_list = [L1_norm_ball, simplex_in_R_pos, simplex_in_R_pos]\n",
    "view_dict = [\n",
    "    {\"elev\": 21, \"azim\": -120},\n",
    "    {\"elev\": 21, \"azim\": -35},\n",
    "    {\"elev\": 21, \"azim\": -35},\n",
    "]\n",
    "facecolor_3d_list = [\"lightblue\", \"lightblue\", None]\n",
    "for P, view_dict, facecolor_3d in zip(\n",
    "    polytope_list, view_dict, facecolor_3d_list\n",
    "):\n",
    "    fig = plt.figure()\n",
    "    ax = fig.add_subplot(1, 2, 1, projection=\"3d\")\n",
    "    ax.view_init(**view_dict)\n",
    "    P.plot(ax=ax, patch_args={\"facecolor\": facecolor_3d})\n",
    "    ax.set_xlabel(\"x\")\n",
    "    ax.set_ylabel(\"y\")\n",
    "    ax.set_zlabel(\"z\")\n",
    "    ax.set_aspect(\"equal\")\n",
    "    ax.set_title(\"3D polytope\")\n",
    "    P_projection = P.projection(project_away_dim=2)\n",
    "    ax2d = fig.add_subplot(1, 2, 2)\n",
    "    P_projection.plot(ax=ax2d)\n",
    "    ax2d.set_xlabel(\"x\")\n",
    "    ax2d.set_ylabel(\"y\")\n",
    "    ax2d.set_aspect(\"equal\")\n",
    "    ax2d.set_title(\"Projection on x-y\")\n",
    "    plt.subplots_adjust(wspace=1)"
   ]
  },
  {
   "cell_type": "markdown",
   "metadata": {},
   "source": [
    "<a name=\"projectpoint\"></a>\n",
    "\n",
    "### Project a point on to a polytope\n",
    "\n",
    "Given a polytope $\\mathcal{P}\\subset\\mathbb{R}^n$ and a point $y\\in\\mathbb{R}^n$, the projection of the point on to $\\mathcal{P}$ is defined as the optimal solution to the optimization problem $x^\\ast = \\arg\\inf_{x\\in\\mathcal{P}} \\|x - y\\|_2$.\n",
    "\n",
    "The `Polytope` class also provides `closest_point` and `distance` methods that are wrapper to `project` method. Projection can also be computed using `1` and `inf` norms."
   ]
  },
  {
   "cell_type": "code",
   "execution_count": null,
   "metadata": {},
   "outputs": [],
   "source": [
    "L1_norm_ball = Polytope(V=np.vstack((np.eye(2), -np.eye(2))))\n",
    "point_to_project = np.array([1, 0.5])\n",
    "projected_point, distance_to_polytope = L1_norm_ball.project(\n",
    "    point_to_project\n",
    ")\n",
    "print(\n",
    "    f\"Distance of point to project {np.array2string(point_to_project)} \"\n",
    "    f\"to the polytope: {distance_to_polytope[0]:1.2f}\"\n",
    ")\n",
    "print(\n",
    "    \"Did closest_point return the same point?\",\n",
    "    np.allclose(\n",
    "        projected_point, L1_norm_ball.closest_point(point_to_project)\n",
    "    ),\n",
    ")\n",
    "print(\n",
    "    \"Did distance return the same distance?\",\n",
    "    np.allclose(\n",
    "        distance_to_polytope, L1_norm_ball.distance(point_to_project)\n",
    "    ),\n",
    ")\n",
    "\n",
    "patch_args = {\"facecolor\": OLD_POLYTOPE_COLOR_1, \"label\": \"L1 norm ball\"}\n",
    "ax, _, _ = L1_norm_ball.plot(patch_args=patch_args)\n",
    "ax.scatter(\n",
    "    point_to_project[0],\n",
    "    point_to_project[1],\n",
    "    color=\"red\",\n",
    "    label=\"Point to project\",\n",
    ")\n",
    "ax.scatter(\n",
    "    projected_point[0, 0],\n",
    "    projected_point[0, 1],\n",
    "    color=\"k\",\n",
    "    label=\"Projected point\",\n",
    ")\n",
    "ax.plot(\n",
    "    [point_to_project[0], projected_point[0, 0]],\n",
    "    [point_to_project[1], projected_point[0, 1]],\n",
    "    \"k--\",\n",
    "    label=\"Distance\",\n",
    ")\n",
    "ax.legend(bbox_to_anchor=(1, 1))\n",
    "ax.set_aspect(\"equal\")\n",
    "ax.grid()\n",
    "plt.subplots_adjust(right=0.7)\n",
    "ax.set_title(\"Projection of a point on a polytope\");"
   ]
  },
  {
   "cell_type": "markdown",
   "metadata": {},
   "source": [
    "<a name=\"containmentpoint\"></a>\n",
    "\n",
    "### Containment: Check if a point is in a polytope\n",
    "\n",
    "Given a polytope $\\mathcal{P}\\subset\\mathbb{R}^n$ and a point $y\\in\\mathbb{R}^n$,  we can check if $y\\in\\mathcal{P}$.\n",
    "\n",
    "The `Polytope` class also overloads `in`, `<`, `<=` operator for this purpose."
   ]
  },
  {
   "cell_type": "code",
   "execution_count": null,
   "metadata": {},
   "outputs": [],
   "source": [
    "L1_norm_ball = Polytope(V=np.vstack((np.eye(2), -np.eye(2))))\n",
    "point_to_project = np.array([1, 0.5])\n",
    "projected_point = L1_norm_ball.closest_point(point_to_project)\n",
    "print(\n",
    "    \"Does the unit l1-norm ball contain point_to_project? \"\n",
    "    f\"{L1_norm_ball.contains(point_to_project)}\"\n",
    ")\n",
    "print(\n",
    "    \"Is point_to_project in the unit l1-norm ball? \"\n",
    "    f\"{point_to_project in L1_norm_ball}\"\n",
    ")\n",
    "print(\n",
    "    \"Is point_to_project <= the unit l1-norm ball? \"\n",
    "    f\"{point_to_project <= L1_norm_ball}\"\n",
    ")\n",
    "print(\n",
    "    \"Is point_to_project < the unit l1-norm ball? \"\n",
    "    f\"{point_to_project < L1_norm_ball}\"\n",
    ")\n",
    "\n",
    "print(\n",
    "    \"\\nDoes the unit l1-norm ball contain projected_point? \"\n",
    "    f\"{L1_norm_ball.contains(projected_point)}\"\n",
    ")\n",
    "print(\n",
    "    \"Is projected_point in the unit l1-norm ball? \"\n",
    "    f\"{projected_point in L1_norm_ball}\"\n",
    ")\n",
    "print(\n",
    "    \"Is projected_point <= the unit l1-norm ball? \"\n",
    "    f\"{projected_point <= L1_norm_ball}\"\n",
    ")\n",
    "print(\n",
    "    \"Is projected_point < the unit l1-norm ball? \"\n",
    "    f\"{projected_point < L1_norm_ball}\"\n",
    ")"
   ]
  },
  {
   "cell_type": "markdown",
   "metadata": {},
   "source": [
    "<a name=\"support\"></a>\n",
    "\n",
    "### Support function\n",
    "\n",
    "Given a polytope $\\mathcal{P}\\subset\\mathbb{R}^n$ and a vector $\\eta\\in\\mathbb{R}^n$, the support function of the polytope is defined as $\\rho_{\\mathcal{P}}=\\sup_{x\\in\\mathcal{P}} \\eta^\\top x$, and its optimal solution as the support vector.\n",
    "Recall that $$\\mathcal{P}\\subset\\{x:\\eta^\\top x \\leq \\rho_{\\mathcal{P}}(\\eta)\\}$$ for any direction $\\eta\\in\\mathbb{R}^n$.\n",
    "\n",
    "The `Polytope` class also provides `extreme` as a wrapper method to the `support` method to directly compute the support vectors."
   ]
  },
  {
   "cell_type": "code",
   "execution_count": null,
   "metadata": {},
   "outputs": [],
   "source": [
    "P = np.diag([0.5, 0.75]) @ Polytope(\n",
    "    V=spread_points_on_a_unit_sphere(2, 7)[0]\n",
    ")\n",
    "direction_vectors = np.array([[0, -1], [0, 1], [1, 0.5], [-2.5, -1]])\n",
    "support_evaluations, support_points = P.support(direction_vectors)\n",
    "\n",
    "outer_approximating_polytope = Polytope(\n",
    "    A=direction_vectors, b=support_evaluations\n",
    ")\n",
    "ax, _, _ = P.plot(\n",
    "    patch_args={\"facecolor\": \"lightgreen\", \"label\": \"Polytope\"}\n",
    ")\n",
    "outer_approx_patch_args = {\n",
    "    \"facecolor\": \"lightblue\",\n",
    "    \"alpha\": 0.4,\n",
    "    \"label\": \"Outer-approx. polytope\",\n",
    "}\n",
    "outer_approximating_polytope.plot(\n",
    "    ax=ax, patch_args=outer_approx_patch_args\n",
    ")\n",
    "ax.scatter(\n",
    "    support_points[:, 0],\n",
    "    support_points[:, 1],\n",
    "    color=\"red\",\n",
    "    label=\"Support points\",\n",
    ")\n",
    "ax.set_aspect(\"equal\")\n",
    "ax.grid()\n",
    "ax.legend(bbox_to_anchor=(0.8, 1))\n",
    "plt.subplots_adjust(right=0.6)\n",
    "print(\n",
    "    \"Did the extreme function return the same support points?\",\n",
    "    np.allclose(P.extreme(direction_vectors), support_points),\n",
    ")\n",
    "ax.set_title(\"Support function/vector evaluation\");"
   ]
  },
  {
   "cell_type": "markdown",
   "metadata": {},
   "source": [
    "<a name=\"cheby\"></a>\n",
    "\n",
    "### Chebyshev centering\n",
    "\n",
    "Given a polytope $\\mathcal{P}\\subset\\mathbb{R}^n$, the Chebyshev center $c$ is the \"deepest\" point within the polytope. Specifically, $(c, R)$ is the optimal solution to the robust linear program $\\sup_{\\mathrm{Ball}(x, r)\\subset\\mathcal{P}} r$, where $\\mathrm{Ball}(x, r)$ is a $n$-dimensional ball centered at $x\\in\\mathbb{R}^n$ with radius $r$."
   ]
  },
  {
   "cell_type": "code",
   "execution_count": null,
   "metadata": {},
   "outputs": [],
   "source": [
    "P = np.diag([1.5, 1.25]) @ Polytope(V=[[0, 0], [1, 0], [0, 2]])\n",
    "c, r = P.chebyshev_centering()\n",
    "print(f\"The Chebyshev center of the polytope is: {np.array2string(c)}\")\n",
    "print(f\"The Chebyshev radius of the polytope is: {r:1.2f}\")\n",
    "\n",
    "P_patch_args = {\"facecolor\": \"lightgreen\", \"label\": \"Polytope\"}\n",
    "ax, _, _ = P.plot(patch_args=P_patch_args)\n",
    "chebyshev_ball = Ellipsoid(c, r=r)\n",
    "chebyshev_ball_patch_args = {\n",
    "    \"facecolor\": \"lightblue\",\n",
    "    \"label\": \"Chebyshev ball\",\n",
    "}\n",
    "chebyshev_ball.plot(ax=ax, patch_args=chebyshev_ball_patch_args)\n",
    "ax.scatter(c[0], c[1], color=\"red\", label=\"Chebyshev center\")\n",
    "ax.set_aspect(\"equal\")\n",
    "ax.grid()\n",
    "ax.legend(bbox_to_anchor=(0.8, 1))\n",
    "plt.subplots_adjust(right=0.6)\n",
    "ax.set_title(\"Chebyshev centering\");"
   ]
  },
  {
   "cell_type": "markdown",
   "metadata": {},
   "source": [
    "<a name=\"mvie\"></a>\n",
    "\n",
    "### Maximum volume inscribing ellipsoid\n",
    "\n",
    "Given a polytope $\\mathcal{P}\\subset\\mathbb{R}^n$, we now compute the maximum volume ellipsoid that is completely contained within the polytope. Recall that ellipsoids are parameterized by their center and a shape matrix $(c, Q)$, i.e., $\\mathcal{E}(c, Q)=\\{x| {(x - c)}^\\top Q^{-1} (x-c) \\leq 1 \\}$. \n",
    "\n",
    "We compute the ellipsoid by solving the following convex program $\\sup_{\\mathcal{E}(c, Q)\\subset\\mathcal{P}} \\mathrm{Vol}(\\mathcal{E}(c,Q))$, when $\\mathcal{P}$ has a halfspace-representation. \n",
    "\n",
    "Note that Chebyshev centering discussed above can be viewed as the maximum volume inscribing sphere (instead of ellipsoid).\n"
   ]
  },
  {
   "cell_type": "code",
   "execution_count": null,
   "metadata": {},
   "outputs": [],
   "source": [
    "P = np.diag([1.5, 1.25]) @ Polytope(V=[[0, 0], [1, 0], [0, 2]])\n",
    "c, Q, _ = P.maximum_volume_inscribing_ellipsoid()\n",
    "max_vol_insc_ell = Ellipsoid(c, Q=Q)\n",
    "print(f\"Ellipsoid center is: {np.array2string(c)}\")\n",
    "print(f\"Ellipsoid shape matrix is:\\n{np.array2string(Q)}\")\n",
    "print(f\"Ellipsoid volume is: {max_vol_insc_ell.volume():1.2f}\")\n",
    "\n",
    "P_patch_args = {\"facecolor\": \"lightgreen\", \"label\": \"Polytope\"}\n",
    "ax, _, _ = P.plot(patch_args=P_patch_args)\n",
    "max_vol_insc_ell_patch_args = {\n",
    "    \"facecolor\": \"lightblue\",\n",
    "    \"label\": \"Max. vol. ellipsoid\",\n",
    "}\n",
    "max_vol_insc_ell.plot(ax=ax, patch_args=max_vol_insc_ell_patch_args)\n",
    "ax.scatter(c[0], c[1], color=\"red\", label=\"Ellipsoid center\")\n",
    "ax.set_aspect(\"equal\")\n",
    "ax.grid()\n",
    "ax.legend(bbox_to_anchor=(0.8, 1))\n",
    "plt.subplots_adjust(right=0.6)\n",
    "ax.set_title(\"Maximum volume inscribing ellipsoid\");"
   ]
  },
  {
   "cell_type": "markdown",
   "metadata": {},
   "source": [
    "<a name=\"mvce\"></a>\n",
    "\n",
    "### Minimum volume circumscribing ellipsoid\n",
    "\n",
    "Given a polytope $\\mathcal{P}\\subset\\mathbb{R}^n$, we now compute the minimum volume ellipsoid that completely covers the polytope. \n",
    "\n",
    "We compute the ellipsoid by solving the following convex program $\\inf_{\\mathcal{P}\\subseteq\\mathcal{E}(c, Q)} \\mathrm{Vol}(\\mathcal{E}(c,Q))$, when $\\mathcal{P}$ has a vertex-representation. "
   ]
  },
  {
   "cell_type": "code",
   "execution_count": null,
   "metadata": {},
   "outputs": [],
   "source": [
    "P = np.diag([1.5, 1.25]) @ Polytope(V=[[0, 0], [1, 0], [0, 2]])\n",
    "c, Q, _ = P.minimum_volume_circumscribing_ellipsoid()\n",
    "min_vol_circ_ell = Ellipsoid(c, Q=Q)\n",
    "print(f\"Ellipsoid center is: {np.array2string(c)}\")\n",
    "print(f\"Ellipsoid shape matrix is:\\n{np.array2string(Q)}\")\n",
    "print(f\"Ellipsoid volume is: {min_vol_circ_ell.volume():1.2f}\")\n",
    "\n",
    "P_patch_args = {\"facecolor\": \"lightgreen\"}\n",
    "min_vol_circ_ell_patch_args = {\"facecolor\": \"lightblue\"}\n",
    "ax, hE, _ = min_vol_circ_ell.plot(patch_args=min_vol_circ_ell_patch_args)\n",
    "_, hP, _ = P.plot(ax=ax, patch_args=P_patch_args)\n",
    "hs = ax.scatter(c[0], c[1], color=\"red\")\n",
    "ax.set_aspect(\"equal\")\n",
    "ax.grid()\n",
    "ax.legend(\n",
    "    [hP, hE, hs],\n",
    "    [\"Polytope\", \"Min. vol. ellipsoid\", \"Ellipsoid center\"],\n",
    "    bbox_to_anchor=(0.8, 1),\n",
    ")\n",
    "plt.subplots_adjust(right=0.6)\n",
    "ax.set_title(\"Minimum volume circumscribing ellipsoid\");"
   ]
  },
  {
   "cell_type": "markdown",
   "metadata": {},
   "source": [
    "<a name=\"mvcr\"></a>\n",
    "\n",
    "### Minimum volume circumscribing rectangle\n",
    "\n",
    "Given a polytope $\\mathcal{P}\\subset\\mathbb{R}^n$, we now compute the minimum volume rectangle that completely covers the polytope. Recall that rectangles are parameterized by their lower and upper bounds $(l, u)$, i.e., $\\mathcal{R}(l, u)=\\{x| l \\leq x \\leq u \\}$.\n",
    "\n",
    "We compute the ellipsoid by solving the following optimization problem $\\inf_{\\mathcal{P}\\subseteq\\mathcal{R}(l, u)} \\mathrm{Vol}(\\mathcal{R}(l,u))$. This optimization problem can be solved via linear programming. "
   ]
  },
  {
   "cell_type": "code",
   "execution_count": null,
   "metadata": {},
   "outputs": [],
   "source": [
    "P = (\n",
    "    rotation_matrix\n",
    "    @ np.diag([1.5, 1.25])\n",
    "    @ Polytope(V=[[0, 0], [1, 0], [0, 2]])\n",
    ")\n",
    "l, u = P.minimum_volume_circumscribing_rectangle()\n",
    "min_vol_circ_rect = Polytope(lb=l, ub=u)\n",
    "print(f\"Rectangle lower bound is: {np.array2string(l)}\")\n",
    "print(f\"Rectangle upper bound is: {np.array2string(u)}\")\n",
    "print(f\"Rectangle volume is: {min_vol_circ_rect.volume():1.2f}\")\n",
    "\n",
    "P_patch_args = {\"facecolor\": \"lightgreen\"}\n",
    "min_vol_circ_rect_patch_args = {\"facecolor\": \"lightblue\"}\n",
    "ax, hE, _ = min_vol_circ_rect.plot(patch_args=min_vol_circ_rect_patch_args)\n",
    "_, hP, _ = P.plot(ax=ax, patch_args=P_patch_args)\n",
    "ax.set_aspect(\"equal\")\n",
    "ax.grid()\n",
    "ax.legend(\n",
    "    [hP, hE], [\"Polytope\", \"Min. vol. rectangle\"], bbox_to_anchor=(1, 0.75)\n",
    ")\n",
    "plt.subplots_adjust(right=0.6)\n",
    "ax.set_title(\"Minimum volume circumscribing rectangle\");"
   ]
  },
  {
   "cell_type": "markdown",
   "metadata": {},
   "source": [
    "<a name=\"interior\"></a>\n",
    "\n",
    "### Interior point computation"
   ]
  },
  {
   "cell_type": "code",
   "execution_count": null,
   "metadata": {},
   "outputs": [],
   "source": [
    "P = np.diag([2, 0.75]) @ Polytope(\n",
    "    V=spread_points_on_a_unit_sphere(2, 7)[0]\n",
    ")\n",
    "chebyshev_center = P.interior_point(point_type=\"chebyshev\")\n",
    "centroid = P.interior_point(point_type=\"centroid\")\n",
    "ax, _, _ = P.plot(\n",
    "    patch_args={\"facecolor\": \"lightgreen\", \"label\": \"Polytope\"}\n",
    ")\n",
    "ax.scatter(\n",
    "    chebyshev_center[0],\n",
    "    chebyshev_center[1],\n",
    "    color=\"red\",\n",
    "    label=\"Chebyshev center\",\n",
    ")\n",
    "ax.scatter(centroid[0], centroid[1], color=\"k\", label=\"Centroid\")\n",
    "ax.set_aspect(\"equal\")\n",
    "ax.grid()\n",
    "ax.legend(loc=\"lower right\", bbox_to_anchor=(1.2, 0))\n",
    "plt.subplots_adjust(right=0.8)\n",
    "ax.set_title(\"Support function/vector evaluation\");"
   ]
  },
  {
   "cell_type": "markdown",
   "metadata": {},
   "source": [
    "<a name=\"volume\"></a>\n",
    "\n",
    "### Volume computation\n",
    "\n",
    "We can `scipy.spatial.ConvexHull` to compute the volume of a polytope.\n",
    "\n",
    "We perform a simple sanity check where we compute the volume a unit l1-norm ball. From the figures above, it is evident that the \"rhombus\" consists of four isosceles right angled triangles with base as $1$."
   ]
  },
  {
   "cell_type": "code",
   "execution_count": null,
   "metadata": {},
   "outputs": [],
   "source": [
    "L1_norm_ball = Polytope(V=np.vstack((np.eye(2), -np.eye(2))))\n",
    "volume_of_an_isosceles_triangle_with_unit_base = 0.5\n",
    "volume_of_unit_l1_norm_ball = L1_norm_ball.volume()\n",
    "print(\n",
    "    \"Is the volume of the unit l1-norm ball 2?\",\n",
    "    np.isclose(\n",
    "        volume_of_unit_l1_norm_ball,\n",
    "        4 * volume_of_an_isosceles_triangle_with_unit_base,\n",
    "    ),\n",
    ")"
   ]
  },
  {
   "cell_type": "markdown",
   "metadata": {},
   "source": [
    "<a name=\"cartesian\"></a>\n",
    "\n",
    "### Cartesian product with itself"
   ]
  },
  {
   "cell_type": "code",
   "execution_count": null,
   "metadata": {},
   "outputs": [],
   "source": [
    "cartesian_P = Polytope(lb=[-1, -1], ub=[1, 1])\n",
    "cartesian_P_4D = cartesian_P**2\n",
    "print(\n",
    "    \"Is cartesian_P_4D a cuboid?\",\n",
    "    cartesian_P_4D == Polytope(c=[0, 0, 0, 0], h=1),\n",
    ")"
   ]
  },
  {
   "cell_type": "markdown",
   "metadata": {},
   "source": [
    "<a name=\"twopoly\"></a>\n",
    "\n",
    "## Operations involving two polytopes"
   ]
  },
  {
   "cell_type": "code",
   "execution_count": null,
   "metadata": {},
   "outputs": [],
   "source": [
    "OLD_POLYTOPE_2 = Polytope(c=[0, 0], h=2) + [-2, 4]\n",
    "OLD_POLYTOPE_COLOR_2 = \"lightsalmon\""
   ]
  },
  {
   "cell_type": "markdown",
   "metadata": {},
   "source": [
    "<a name=\"minkowski\"></a>\n",
    "\n",
    "### Minkowski sum\n",
    "\n",
    "We perform a Minkowski sum operation on two polytopes. Specifically, given two polytopes\n",
    "$\\mathcal{P}_1$ and $\\mathcal{P}_2$, we compute \n",
    "$$\\mathcal{Q}=\\{p_1+p_2\\ |\\ p_1\\in\\mathcal{P}_1,p_2\\in\\mathcal{P}_2\\}.$$\n",
    "\n",
    "**Sanity check:** The convex hull of the polytopes obtained by translating \n",
    "$\\mathcal{P}_1$ to $\\mathcal{P}_2$'s vertices coincides with $\\mathcal{Q}$.\n",
    "\n",
    "**Note:** This code snippet also shows the advantage of obtaining handles. In line 15, if label is passed to patch_args, we would have as many legend entries as the number of vertices in `OLD_POLYTOPE_2.V`."
   ]
  },
  {
   "cell_type": "code",
   "execution_count": null,
   "metadata": {},
   "outputs": [],
   "source": [
    "new_polytope = OLD_POLYTOPE_1 + OLD_POLYTOPE_2\n",
    "\n",
    "fig, ax = plt.subplots(1, 2)\n",
    "OLD_POLYTOPE_1.plot(\n",
    "    ax=ax[0], patch_args={\"facecolor\": OLD_POLYTOPE_COLOR_1, \"label\": \"P1\"}\n",
    ")\n",
    "OLD_POLYTOPE_2.plot(\n",
    "    ax=ax[0],\n",
    "    patch_args={\n",
    "        \"zorder\": 10,\n",
    "        \"facecolor\": OLD_POLYTOPE_COLOR_2,\n",
    "        \"label\": \"P2\",\n",
    "    },\n",
    ")\n",
    "new_polytope.plot(\n",
    "    ax=ax[0], patch_args={\"facecolor\": NEW_POLYTOPE_COLOR, \"label\": \"Q\"}\n",
    ")\n",
    "ax[0].legend(loc=\"best\")\n",
    "ax[0].set_title(\"Minkowski sum Q = P1 $\\oplus$ P2\")\n",
    "\n",
    "OLD_POLYTOPE_1.plot(\n",
    "    ax=ax[1], patch_args={\"facecolor\": OLD_POLYTOPE_COLOR_1}\n",
    ")\n",
    "new_polytope.plot(\n",
    "    ax=ax[1],\n",
    "    patch_args={\n",
    "        \"facecolor\": NEW_POLYTOPE_COLOR,\n",
    "        \"alpha\": 0.9,\n",
    "        \"label\": r\"Q=P1 $\\oplus$ P2.v\",\n",
    "    },\n",
    ")\n",
    "OLD_POLYTOPE_2.plot(\n",
    "    ax=ax[1],\n",
    "    patch_args={\"facecolor\": OLD_POLYTOPE_COLOR_2, \"alpha\": 0.2},\n",
    "    vertex_args={\"s\": 50, \"color\": \"r\"},\n",
    ")\n",
    "for v in OLD_POLYTOPE_2.V:\n",
    "    temp_polytope = v + OLD_POLYTOPE_1\n",
    "    _, h, _ = temp_polytope.plot(\n",
    "        ax=ax[1], patch_args={\"facecolor\": \"k\", \"alpha\": 0.8}\n",
    "    )\n",
    "handles, labels = ax[1].get_legend_handles_labels()\n",
    "ax[1].legend([*handles, h], [*labels, \"P2.v\"], loc=\"best\")\n",
    "ax[1].set_title(\"Sanity check\");"
   ]
  },
  {
   "cell_type": "markdown",
   "metadata": {},
   "source": [
    "<a name=\"pontryagin\"></a>\n",
    "\n",
    "### Pontryagin difference\n",
    "\n",
    "We perform a Pontryagin difference operation on two polytopes. Specifically, given two \n",
    "polytopes $\\mathcal{P}_1$ and $\\mathcal{P}_2$, we compute \n",
    "$$\\mathcal{Q}=\\mathcal{P}_2 \\ominus \\mathcal{P}_1 = \\{p_2\\ |\\ \\{p_2\\} \\oplus \\mathcal{P}_1 \\subseteq\\mathcal{P}_2\\} = \\{p_2\\ |\\ \\forall p_1 \\in\\mathcal{P}_1,\\  p_1 + p_2 \\in\\mathcal{P}_2\\}.$$\n",
    "\n",
    "**Sanity check:** 1) $\\mathcal{Q}\\subseteq \\mathcal{P}_2$, and 2) Translating $\\mathcal{P}_1$ by \n",
    "$\\mathcal{Q}$'s vertices still keeps it inside $\\mathcal{P}_2$."
   ]
  },
  {
   "cell_type": "code",
   "execution_count": null,
   "metadata": {},
   "outputs": [],
   "source": [
    "NEW_POLYTOPE = OLD_POLYTOPE_2 - OLD_POLYTOPE_1\n",
    "\n",
    "fig, ax = plt.subplots(1, 2)\n",
    "OLD_POLYTOPE_1.plot(\n",
    "    ax=ax[0], patch_args={\"facecolor\": OLD_POLYTOPE_COLOR_1, \"label\": \"P1\"}\n",
    ")\n",
    "OLD_POLYTOPE_2.plot(\n",
    "    ax=ax[0], patch_args={\"facecolor\": OLD_POLYTOPE_COLOR_2, \"label\": \"P2\"}\n",
    ")\n",
    "NEW_POLYTOPE.plot(\n",
    "    ax=ax[0],\n",
    "    patch_args={\n",
    "        \"facecolor\": NEW_POLYTOPE_COLOR,\n",
    "        \"label\": r\"Q=P2 $\\ominus$ P1\",\n",
    "    },\n",
    ")\n",
    "ax[0].legend(loc=\"best\")\n",
    "ax[0].set_title(\"Pontryagin difference\")\n",
    "\n",
    "OLD_POLYTOPE_2.plot(\n",
    "    ax=ax[1], patch_args={\"facecolor\": OLD_POLYTOPE_COLOR_2}\n",
    ")\n",
    "NEW_POLYTOPE.plot(\n",
    "    ax=ax[1],\n",
    "    vertex_args={\"visible\": True, \"color\": \"r\", \"s\": 50, \"label\": \"Q.v\"},\n",
    "    patch_args={\"facecolor\": NEW_POLYTOPE_COLOR},\n",
    ")\n",
    "for v in NEW_POLYTOPE.V:\n",
    "    temp_polytope = v + OLD_POLYTOPE_1\n",
    "    _, h, _ = temp_polytope.plot(\n",
    "        ax=ax[1], patch_args={\"facecolor\": \"k\", \"alpha\": 0.8}\n",
    "    )\n",
    "handles, labels = ax[1].get_legend_handles_labels()\n",
    "ax[1].legend([*handles, h], [*labels, r\"P1 $\\oplus$ Q.v\"], loc=\"best\")\n",
    "ax[1].set_title(\"Sanity check\");"
   ]
  },
  {
   "cell_type": "markdown",
   "metadata": {},
   "source": [
    "<a name=\"intersection\"></a>\n",
    "\n",
    "### Intersection\n",
    "\n",
    "We perform an intersection operation on two polytopes. Specifically, given two polytopes\n",
    "$\\mathcal{P}_1$ and $\\mathcal{P}_2$, we compute \n",
    "$$\\mathcal{Q}=\\{p\\ |\\ p\\in\\mathcal{P}_1,p\\in\\mathcal{P}_2\\}.$$\n",
    "\n",
    "To obtain a non-empty intersection, we first translate $\\mathcal{P}_1$ to obtain $\\mathcal{P}_1^\\dagger$.\n",
    "\n",
    "**Sanity check:** Defining $\\mathcal{Q}=\\mathcal{P}_1^\\dagger\\cap\\mathcal{P}_2$, we have 1) $\\mathcal{Q}\\subseteq\\mathcal{P}_1^\\dagger$ and 2) $\\mathcal{Q}\\subseteq\\mathcal{P}_2$.\n",
    "\n",
    "You can also compute intersection with affine sets, halfspaces, as well as intersections with other polytopes under an inverse-affine maps."
   ]
  },
  {
   "cell_type": "code",
   "execution_count": null,
   "metadata": {},
   "outputs": [],
   "source": [
    "translate_by_vector = (-1, 3)\n",
    "P4 = OLD_POLYTOPE_1 + translate_by_vector\n",
    "new_polytope = OLD_POLYTOPE_2.intersection(P4)\n",
    "\n",
    "fig = plt.figure()\n",
    "ax = plt.gca()\n",
    "OLD_POLYTOPE_1.plot(\n",
    "    ax=ax, patch_args={\"facecolor\": OLD_POLYTOPE_COLOR_1, \"label\": \"P1\"}\n",
    ")\n",
    "OLD_POLYTOPE_2.plot(\n",
    "    ax=ax, patch_args={\"facecolor\": OLD_POLYTOPE_COLOR_2, \"label\": \"P2\"}\n",
    ")\n",
    "P4.plot(\n",
    "    ax=ax,\n",
    "    patch_args={\n",
    "        \"facecolor\": \"yellow\",\n",
    "        \"linewidth\": 3,\n",
    "        \"label\": r\"P1$^\\dagger$\",\n",
    "    },\n",
    ")\n",
    "new_polytope.plot(\n",
    "    ax=ax,\n",
    "    patch_args={\n",
    "        \"edgecolor\": NEW_POLYTOPE_COLOR,\n",
    "        \"fill\": False,\n",
    "        \"linewidth\": 1,\n",
    "        \"label\": \"Q\",\n",
    "    },\n",
    ")\n",
    "ax.legend(loc=\"best\")\n",
    "ax.set_title(r\"Intersection Q=P1$^\\dagger\\cap$ P2\");"
   ]
  },
  {
   "cell_type": "markdown",
   "metadata": {},
   "source": [
    "<a name=\"intersectioninverse\"></a>\n",
    "\n",
    "#### Intersection under inverse affine map\n",
    "\n",
    "Given polytopes $\\mathcal{P}=\\{x|-1\\leq x \\leq 1\\}\\subset\\mathbb{R}^3$ and $\\mathcal{Q}=\\{x|-1\\leq x - 1\\leq 1\\}\\subset\\mathbb{R}^2$ and matrix $R=[I_2, 0_{2\\times 1}]$, we compute $\\mathcal{P}\\cap_R\\mathcal{Q}=\\{x\\in\\mathcal{P}|Rx\\in\\mathcal{Q}\\}=\\{x|-1\\leq x \\leq 1, [I_2, 0_{2\\times 1}]x\\in\\mathcal{Q}\\}=\\{x|-1\\leq x \\leq 1, 0\\leq x_i \\leq 2\\text{ for }i\\in\\{1,2\\}\\}$. Unlike $\\mathcal{P}\\cap(\\mathcal{Q}@R)$, this function does not require $R$ to be square."
   ]
  },
  {
   "cell_type": "code",
   "execution_count": null,
   "metadata": {},
   "outputs": [],
   "source": [
    "P_3D = Polytope(c=[0, 0, 0], h=1)\n",
    "ax, _, _ = P_3D.plot(patch_args={\"label\": \"P_3D\"})\n",
    "P_3D.intersection_under_inverse_affine_map(\n",
    "    Polytope(c=[1, 1], h=1), [[1, 0, 0], [0, 1, 0]]\n",
    ").plot(\n",
    "    ax=ax,\n",
    "    patch_args={\"facecolor\": \"yellow\", \"label\": \"P_3D after intersection\"},\n",
    ")\n",
    "ax.legend()\n",
    "ax.view_init(elev=15, azim=-24)\n",
    "ax.set_title(\"Intersection with a halfspace\")\n",
    "ax.set_xlabel(\"x\")\n",
    "ax.set_ylabel(\"y\")\n",
    "ax.set_zlabel(\"z\");"
   ]
  },
  {
   "cell_type": "markdown",
   "metadata": {},
   "source": [
    "<a name=\"halfspace\"></a>\n",
    "\n",
    "#### Intersection with a halfspace"
   ]
  },
  {
   "cell_type": "code",
   "execution_count": null,
   "metadata": {},
   "outputs": [],
   "source": [
    "ax, _, _ = P_3D.plot(patch_args={\"label\": \"P_3D\"})\n",
    "P_3D.intersection_with_halfspaces(A=[1, 1, 1], b=0).plot(\n",
    "    ax=ax,\n",
    "    patch_args={\"facecolor\": \"yellow\", \"label\": \"P_3D after intersection\"},\n",
    ")\n",
    "ax.legend()\n",
    "ax.view_init(elev=15, azim=-24)\n",
    "ax.set_title(\"Intersection with a halfspace\")\n",
    "ax.set_xlabel(\"x\")\n",
    "ax.set_ylabel(\"y\")\n",
    "ax.set_zlabel(\"z\");"
   ]
  },
  {
   "cell_type": "markdown",
   "metadata": {},
   "source": [
    "<a name=\"affineset\"></a>\n",
    "\n",
    "#### Intersection with an affine set    "
   ]
  },
  {
   "cell_type": "code",
   "execution_count": null,
   "metadata": {},
   "outputs": [],
   "source": [
    "ax, _, _ = P_3D.plot(patch_args={\"label\": \"P_3D\"})\n",
    "print(\"Before intersection: He shape\", P_3D.He.shape)\n",
    "P_3D_intersection = P_3D.intersection_with_affine_set(Ae=[1, 1, 1], be=0)\n",
    "P_3D_intersection.plot(\n",
    "    ax=ax,\n",
    "    patch_args={\"facecolor\": \"yellow\", \"label\": \"P_3D after intersection\"},\n",
    ")\n",
    "print(\"After intersection: He shape\", P_3D_intersection.He.shape)\n",
    "ax.legend()\n",
    "ax.view_init(elev=15, azim=-24)\n",
    "ax.set_title(\"Intersection with affine set\")\n",
    "ax.set_xlabel(\"x\")\n",
    "ax.set_ylabel(\"y\")\n",
    "ax.set_zlabel(\"z\");"
   ]
  },
  {
   "cell_type": "markdown",
   "metadata": {},
   "source": [
    "<a name=\"slice\"></a>\n",
    "\n",
    "#### Slice"
   ]
  },
  {
   "cell_type": "code",
   "execution_count": null,
   "metadata": {},
   "outputs": [],
   "source": [
    "ax, _, _ = P_3D.plot(patch_args={\"label\": \"P_3D\"})\n",
    "P_3D.slice(dims=2, constants=0.5).plot(\n",
    "    ax=ax,\n",
    "    patch_args={\"facecolor\": \"yellow\", \"label\": \"P_3D after slicing\"},\n",
    ")\n",
    "ax.legend()\n",
    "ax.view_init(elev=15, azim=-24)\n",
    "ax.set_title(\"Slicing\")\n",
    "ax.set_xlabel(\"x\")\n",
    "ax.set_ylabel(\"y\")\n",
    "ax.set_zlabel(\"z\");"
   ]
  },
  {
   "cell_type": "markdown",
   "metadata": {},
   "source": [
    "<a name=\"containment\"></a>\n",
    "\n",
    "### Containment and equality check\n",
    "\n",
    "We can see if a polytope covers another --- given two polytopes\n",
    "$\\mathcal{P}_1$ and $\\mathcal{P}_2$, we can check if $\\mathcal{P}_1\\overset{?}{\\subseteq}\\mathcal{P}_2$. `pycvxset` provides a method `contains` to do so, but also overloads binary operators `<=`, `<`, `>=`, `>`, `in` for the same. Finally, we can also check if polytopes are equal using `==`.\n",
    "\n",
    "You can also check the polytope contains another ellipsoid or a constrained zonotope as well."
   ]
  },
  {
   "cell_type": "code",
   "execution_count": null,
   "metadata": {},
   "outputs": [],
   "source": [
    "P5 = 0.5 * (\n",
    "    OLD_POLYTOPE_1 - OLD_POLYTOPE_1.interior_point(\"centroid\")\n",
    ") + OLD_POLYTOPE_1.interior_point(\"centroid\")\n",
    "fig, ax = plt.subplots(1, 2)\n",
    "OLD_POLYTOPE_1.plot(\n",
    "    ax=ax[0], patch_args={\"facecolor\": OLD_POLYTOPE_COLOR_1, \"label\": \"P1\"}\n",
    ")\n",
    "P5.plot(ax=ax[0], patch_args={\"facecolor\": \"black\", \"label\": \"P5\"})\n",
    "ax[0].legend(loc=\"best\")\n",
    "print(f\"Does P1 cover P5? {OLD_POLYTOPE_1.contains(P5)}\")\n",
    "print(f\"Is P1 >= P5? {OLD_POLYTOPE_1 >= P5}\")\n",
    "print(f\"Is P1 > P5? {OLD_POLYTOPE_1 > P5}\")\n",
    "print(f\"Is P5 in P1? {P5 in OLD_POLYTOPE_1}\")\n",
    "print(f\"Is P1 <= P5? {OLD_POLYTOPE_1 <= P5}\")\n",
    "print(f\"Is P1 < P5? {OLD_POLYTOPE_1 < P5}\")\n",
    "print(f\"Is P1 in P5? {OLD_POLYTOPE_1 in P5}\")\n",
    "OLD_POLYTOPE_2.plot(\n",
    "    ax=ax[1], patch_args={\"facecolor\": OLD_POLYTOPE_COLOR_2, \"label\": \"P2\"}\n",
    ")\n",
    "P4.plot(ax=ax[1], patch_args={\"facecolor\": \"grey\", \"label\": \"P4\"})\n",
    "ax[1].legend(loc=\"best\")\n",
    "print(f\"\\n\\nDoes P2 cover P4? {OLD_POLYTOPE_2.contains(P4)}\")\n",
    "print(f\"Is P2 >= P4? {OLD_POLYTOPE_2 >= P4}\")\n",
    "print(f\"Is P2 > P4? {OLD_POLYTOPE_2 > P4}\")\n",
    "print(f\"Is P4 in P2? {P4 in OLD_POLYTOPE_2}\")\n",
    "print(f\"Is P2 <= P4? {OLD_POLYTOPE_2 <= P4}\")\n",
    "print(f\"Is P2 < P4? {OLD_POLYTOPE_2 < P4}\")\n",
    "print(f\"Is P2 in P4? {OLD_POLYTOPE_2 in P4}\")\n",
    "plt.suptitle(\"Containment check for two sets of polytopes\");"
   ]
  }
 ],
 "metadata": {
  "kernelspec": {
   "display_name": "pycvxset",
   "language": "python",
   "name": "python3"
  },
  "language_info": {
   "codemirror_mode": {
    "name": "ipython",
    "version": 3
   },
   "file_extension": ".py",
   "mimetype": "text/x-python",
   "name": "python",
   "nbconvert_exporter": "python",
   "pygments_lexer": "ipython3",
   "version": "3.9.19"
  }
 },
 "nbformat": 4,
 "nbformat_minor": 2
}
